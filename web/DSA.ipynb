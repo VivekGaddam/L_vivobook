{
 "cells": [
  {
   "cell_type": "code",
   "execution_count": 5,
   "metadata": {},
   "outputs": [],
   "source": [
    "import random\n",
    "lst=list(range(1,30))\n",
    "random.shuffle(lst)\n"
   ]
  },
  {
   "cell_type": "code",
   "execution_count": 6,
   "metadata": {},
   "outputs": [
    {
     "name": "stdout",
     "output_type": "stream",
     "text": [
      "[1, 2, 3, 4, 5, 6, 7, 8, 9, 10, 11, 12, 13, 14, 15, 16, 17, 18, 19, 20, 21, 22, 23, 24, 25, 26, 27, 28, 29]\n"
     ]
    }
   ],
   "source": [
    "#bubble_sort\n",
    "a=lst\n",
    "for i in range(len(a)):\n",
    "    for j in range(0,len(a)-1-i):\n",
    "        if a[j]>a[j+1]:\n",
    "            a[j],a[j+1]=a[j+1],a[j]\n",
    "print(a)"
   ]
  },
  {
   "cell_type": "code",
   "execution_count": 8,
   "metadata": {},
   "outputs": [
    {
     "name": "stdout",
     "output_type": "stream",
     "text": [
      "[13, 18, 21, 26, 2, 8, 27, 12, 20, 28, 5, 1, 10, 7, 14, 3, 24, 11, 16, 9, 4, 15, 6, 25, 17, 19, 29, 22, 23]\n",
      "[1, 2, 3, 4, 5, 6, 7, 8, 9, 10, 11, 12, 13, 14, 15, 16, 17, 18, 19, 20, 21, 22, 23, 24, 25, 26, 27, 28, 29]\n"
     ]
    }
   ],
   "source": [
    "#Cock_tail sort\n",
    "lst=list(range(1,30))\n",
    "random.shuffle(lst)\n",
    "a=lst\n",
    "print(a)\n",
    "swap=True\n",
    "start=0\n",
    "end=len(a)-1\n",
    "while swap:\n",
    "    for i in range(start,end):\n",
    "        if a[i]>a[i+1]:\n",
    "            a[i+1],a[i]=a[i],a[i+1]\n",
    "        swap=True\n",
    "    if swap==False:\n",
    "        break\n",
    "    swap=False\n",
    "    for j in range(end-1,start-1,-1):\n",
    "        if a[j]>a[j+1]:\n",
    "            a[j+1],a[j]=a[j],a[j+1]\n",
    "            swap=True\n",
    "    start+=1\n",
    "\n",
    "print(a)"
   ]
  },
  {
   "cell_type": "code",
   "execution_count": 14,
   "metadata": {},
   "outputs": [
    {
     "name": "stdout",
     "output_type": "stream",
     "text": [
      "Max-Heap built up to index 13: [20, 10, 18, 19, 25, 24, 5, 3, 12, 17, 1, 13, 9, 26, 4, 28, 11, 27, 29, 22, 2, 16, 14, 15, 21, 23, 7, 6, 8]\n",
      "Max-Heap built up to index 12: [20, 10, 18, 19, 25, 24, 5, 3, 12, 17, 1, 13, 23, 26, 4, 28, 11, 27, 29, 22, 2, 16, 14, 15, 21, 9, 7, 6, 8]\n",
      "Max-Heap built up to index 11: [20, 10, 18, 19, 25, 24, 5, 3, 12, 17, 1, 21, 23, 26, 4, 28, 11, 27, 29, 22, 2, 16, 14, 15, 13, 9, 7, 6, 8]\n",
      "Max-Heap built up to index 10: [20, 10, 18, 19, 25, 24, 5, 3, 12, 17, 16, 21, 23, 26, 4, 28, 11, 27, 29, 22, 2, 1, 14, 15, 13, 9, 7, 6, 8]\n",
      "Max-Heap built up to index 9: [20, 10, 18, 19, 25, 24, 5, 3, 12, 22, 16, 21, 23, 26, 4, 28, 11, 27, 29, 17, 2, 1, 14, 15, 13, 9, 7, 6, 8]\n",
      "Max-Heap built up to index 8: [20, 10, 18, 19, 25, 24, 5, 3, 29, 22, 16, 21, 23, 26, 4, 28, 11, 27, 12, 17, 2, 1, 14, 15, 13, 9, 7, 6, 8]\n",
      "Max-Heap built up to index 7: [20, 10, 18, 19, 25, 24, 5, 28, 29, 22, 16, 21, 23, 26, 4, 3, 11, 27, 12, 17, 2, 1, 14, 15, 13, 9, 7, 6, 8]\n",
      "Max-Heap built up to index 6: [20, 10, 18, 19, 25, 24, 26, 28, 29, 22, 16, 21, 23, 8, 4, 3, 11, 27, 12, 17, 2, 1, 14, 15, 13, 9, 7, 6, 5]\n",
      "Max-Heap built up to index 5: [20, 10, 18, 19, 25, 24, 26, 28, 29, 22, 16, 21, 23, 8, 4, 3, 11, 27, 12, 17, 2, 1, 14, 15, 13, 9, 7, 6, 5]\n",
      "Max-Heap built up to index 4: [20, 10, 18, 19, 25, 24, 26, 28, 29, 22, 16, 21, 23, 8, 4, 3, 11, 27, 12, 17, 2, 1, 14, 15, 13, 9, 7, 6, 5]\n",
      "Max-Heap built up to index 3: [20, 10, 18, 29, 25, 24, 26, 28, 27, 22, 16, 21, 23, 8, 4, 3, 11, 19, 12, 17, 2, 1, 14, 15, 13, 9, 7, 6, 5]\n",
      "Max-Heap built up to index 2: [20, 10, 26, 29, 25, 24, 18, 28, 27, 22, 16, 21, 23, 8, 4, 3, 11, 19, 12, 17, 2, 1, 14, 15, 13, 9, 7, 6, 5]\n",
      "Max-Heap built up to index 1: [20, 29, 26, 28, 25, 24, 18, 11, 27, 22, 16, 21, 23, 8, 4, 3, 10, 19, 12, 17, 2, 1, 14, 15, 13, 9, 7, 6, 5]\n",
      "Max-Heap built up to index 0: [29, 28, 26, 27, 25, 24, 18, 11, 20, 22, 16, 21, 23, 8, 4, 3, 10, 19, 12, 17, 2, 1, 14, 15, 13, 9, 7, 6, 5]\n",
      "Swapped root with element at index 28: [5, 28, 26, 27, 25, 24, 18, 11, 20, 22, 16, 21, 23, 8, 4, 3, 10, 19, 12, 17, 2, 1, 14, 15, 13, 9, 7, 6, 29]\n",
      "Heapify called on reduced heap up to index 28: [28, 27, 26, 20, 25, 24, 18, 11, 19, 22, 16, 21, 23, 8, 4, 3, 10, 5, 12, 17, 2, 1, 14, 15, 13, 9, 7, 6, 29]\n",
      "Swapped root with element at index 27: [6, 27, 26, 20, 25, 24, 18, 11, 19, 22, 16, 21, 23, 8, 4, 3, 10, 5, 12, 17, 2, 1, 14, 15, 13, 9, 7, 28, 29]\n",
      "Heapify called on reduced heap up to index 27: [27, 25, 26, 20, 22, 24, 18, 11, 19, 17, 16, 21, 23, 8, 4, 3, 10, 5, 12, 6, 2, 1, 14, 15, 13, 9, 7, 28, 29]\n",
      "Swapped root with element at index 26: [7, 25, 26, 20, 22, 24, 18, 11, 19, 17, 16, 21, 23, 8, 4, 3, 10, 5, 12, 6, 2, 1, 14, 15, 13, 9, 27, 28, 29]\n",
      "Heapify called on reduced heap up to index 26: [26, 25, 24, 20, 22, 23, 18, 11, 19, 17, 16, 21, 9, 8, 4, 3, 10, 5, 12, 6, 2, 1, 14, 15, 13, 7, 27, 28, 29]\n",
      "Swapped root with element at index 25: [7, 25, 24, 20, 22, 23, 18, 11, 19, 17, 16, 21, 9, 8, 4, 3, 10, 5, 12, 6, 2, 1, 14, 15, 13, 26, 27, 28, 29]\n",
      "Heapify called on reduced heap up to index 25: [25, 22, 24, 20, 17, 23, 18, 11, 19, 7, 16, 21, 9, 8, 4, 3, 10, 5, 12, 6, 2, 1, 14, 15, 13, 26, 27, 28, 29]\n",
      "Swapped root with element at index 24: [13, 22, 24, 20, 17, 23, 18, 11, 19, 7, 16, 21, 9, 8, 4, 3, 10, 5, 12, 6, 2, 1, 14, 15, 25, 26, 27, 28, 29]\n",
      "Heapify called on reduced heap up to index 24: [24, 22, 23, 20, 17, 21, 18, 11, 19, 7, 16, 15, 9, 8, 4, 3, 10, 5, 12, 6, 2, 1, 14, 13, 25, 26, 27, 28, 29]\n",
      "Swapped root with element at index 23: [13, 22, 23, 20, 17, 21, 18, 11, 19, 7, 16, 15, 9, 8, 4, 3, 10, 5, 12, 6, 2, 1, 14, 24, 25, 26, 27, 28, 29]\n",
      "Heapify called on reduced heap up to index 23: [23, 22, 21, 20, 17, 15, 18, 11, 19, 7, 16, 13, 9, 8, 4, 3, 10, 5, 12, 6, 2, 1, 14, 24, 25, 26, 27, 28, 29]\n",
      "Swapped root with element at index 22: [14, 22, 21, 20, 17, 15, 18, 11, 19, 7, 16, 13, 9, 8, 4, 3, 10, 5, 12, 6, 2, 1, 23, 24, 25, 26, 27, 28, 29]\n",
      "Heapify called on reduced heap up to index 22: [22, 20, 21, 19, 17, 15, 18, 11, 14, 7, 16, 13, 9, 8, 4, 3, 10, 5, 12, 6, 2, 1, 23, 24, 25, 26, 27, 28, 29]\n",
      "Swapped root with element at index 21: [1, 20, 21, 19, 17, 15, 18, 11, 14, 7, 16, 13, 9, 8, 4, 3, 10, 5, 12, 6, 2, 22, 23, 24, 25, 26, 27, 28, 29]\n",
      "Heapify called on reduced heap up to index 21: [21, 20, 18, 19, 17, 15, 8, 11, 14, 7, 16, 13, 9, 1, 4, 3, 10, 5, 12, 6, 2, 22, 23, 24, 25, 26, 27, 28, 29]\n",
      "Swapped root with element at index 20: [2, 20, 18, 19, 17, 15, 8, 11, 14, 7, 16, 13, 9, 1, 4, 3, 10, 5, 12, 6, 21, 22, 23, 24, 25, 26, 27, 28, 29]\n",
      "Heapify called on reduced heap up to index 20: [20, 19, 18, 14, 17, 15, 8, 11, 12, 7, 16, 13, 9, 1, 4, 3, 10, 5, 2, 6, 21, 22, 23, 24, 25, 26, 27, 28, 29]\n",
      "Swapped root with element at index 19: [6, 19, 18, 14, 17, 15, 8, 11, 12, 7, 16, 13, 9, 1, 4, 3, 10, 5, 2, 20, 21, 22, 23, 24, 25, 26, 27, 28, 29]\n",
      "Heapify called on reduced heap up to index 19: [19, 17, 18, 14, 16, 15, 8, 11, 12, 7, 6, 13, 9, 1, 4, 3, 10, 5, 2, 20, 21, 22, 23, 24, 25, 26, 27, 28, 29]\n",
      "Swapped root with element at index 18: [2, 17, 18, 14, 16, 15, 8, 11, 12, 7, 6, 13, 9, 1, 4, 3, 10, 5, 19, 20, 21, 22, 23, 24, 25, 26, 27, 28, 29]\n",
      "Heapify called on reduced heap up to index 18: [18, 17, 15, 14, 16, 13, 8, 11, 12, 7, 6, 2, 9, 1, 4, 3, 10, 5, 19, 20, 21, 22, 23, 24, 25, 26, 27, 28, 29]\n",
      "Swapped root with element at index 17: [5, 17, 15, 14, 16, 13, 8, 11, 12, 7, 6, 2, 9, 1, 4, 3, 10, 18, 19, 20, 21, 22, 23, 24, 25, 26, 27, 28, 29]\n",
      "Heapify called on reduced heap up to index 17: [17, 16, 15, 14, 7, 13, 8, 11, 12, 5, 6, 2, 9, 1, 4, 3, 10, 18, 19, 20, 21, 22, 23, 24, 25, 26, 27, 28, 29]\n",
      "Swapped root with element at index 16: [10, 16, 15, 14, 7, 13, 8, 11, 12, 5, 6, 2, 9, 1, 4, 3, 17, 18, 19, 20, 21, 22, 23, 24, 25, 26, 27, 28, 29]\n",
      "Heapify called on reduced heap up to index 16: [16, 14, 15, 12, 7, 13, 8, 11, 10, 5, 6, 2, 9, 1, 4, 3, 17, 18, 19, 20, 21, 22, 23, 24, 25, 26, 27, 28, 29]\n",
      "Swapped root with element at index 15: [3, 14, 15, 12, 7, 13, 8, 11, 10, 5, 6, 2, 9, 1, 4, 16, 17, 18, 19, 20, 21, 22, 23, 24, 25, 26, 27, 28, 29]\n",
      "Heapify called on reduced heap up to index 15: [15, 14, 13, 12, 7, 9, 8, 11, 10, 5, 6, 2, 3, 1, 4, 16, 17, 18, 19, 20, 21, 22, 23, 24, 25, 26, 27, 28, 29]\n",
      "Swapped root with element at index 14: [4, 14, 13, 12, 7, 9, 8, 11, 10, 5, 6, 2, 3, 1, 15, 16, 17, 18, 19, 20, 21, 22, 23, 24, 25, 26, 27, 28, 29]\n",
      "Heapify called on reduced heap up to index 14: [14, 12, 13, 11, 7, 9, 8, 4, 10, 5, 6, 2, 3, 1, 15, 16, 17, 18, 19, 20, 21, 22, 23, 24, 25, 26, 27, 28, 29]\n",
      "Swapped root with element at index 13: [1, 12, 13, 11, 7, 9, 8, 4, 10, 5, 6, 2, 3, 14, 15, 16, 17, 18, 19, 20, 21, 22, 23, 24, 25, 26, 27, 28, 29]\n",
      "Heapify called on reduced heap up to index 13: [13, 12, 9, 11, 7, 3, 8, 4, 10, 5, 6, 2, 1, 14, 15, 16, 17, 18, 19, 20, 21, 22, 23, 24, 25, 26, 27, 28, 29]\n",
      "Swapped root with element at index 12: [1, 12, 9, 11, 7, 3, 8, 4, 10, 5, 6, 2, 13, 14, 15, 16, 17, 18, 19, 20, 21, 22, 23, 24, 25, 26, 27, 28, 29]\n",
      "Heapify called on reduced heap up to index 12: [12, 11, 9, 10, 7, 3, 8, 4, 1, 5, 6, 2, 13, 14, 15, 16, 17, 18, 19, 20, 21, 22, 23, 24, 25, 26, 27, 28, 29]\n",
      "Swapped root with element at index 11: [2, 11, 9, 10, 7, 3, 8, 4, 1, 5, 6, 12, 13, 14, 15, 16, 17, 18, 19, 20, 21, 22, 23, 24, 25, 26, 27, 28, 29]\n",
      "Heapify called on reduced heap up to index 11: [11, 10, 9, 4, 7, 3, 8, 2, 1, 5, 6, 12, 13, 14, 15, 16, 17, 18, 19, 20, 21, 22, 23, 24, 25, 26, 27, 28, 29]\n",
      "Swapped root with element at index 10: [6, 10, 9, 4, 7, 3, 8, 2, 1, 5, 11, 12, 13, 14, 15, 16, 17, 18, 19, 20, 21, 22, 23, 24, 25, 26, 27, 28, 29]\n",
      "Heapify called on reduced heap up to index 10: [10, 7, 9, 4, 6, 3, 8, 2, 1, 5, 11, 12, 13, 14, 15, 16, 17, 18, 19, 20, 21, 22, 23, 24, 25, 26, 27, 28, 29]\n",
      "Swapped root with element at index 9: [5, 7, 9, 4, 6, 3, 8, 2, 1, 10, 11, 12, 13, 14, 15, 16, 17, 18, 19, 20, 21, 22, 23, 24, 25, 26, 27, 28, 29]\n",
      "Heapify called on reduced heap up to index 9: [9, 7, 8, 4, 6, 3, 5, 2, 1, 10, 11, 12, 13, 14, 15, 16, 17, 18, 19, 20, 21, 22, 23, 24, 25, 26, 27, 28, 29]\n",
      "Swapped root with element at index 8: [1, 7, 8, 4, 6, 3, 5, 2, 9, 10, 11, 12, 13, 14, 15, 16, 17, 18, 19, 20, 21, 22, 23, 24, 25, 26, 27, 28, 29]\n",
      "Heapify called on reduced heap up to index 8: [8, 7, 5, 4, 6, 3, 1, 2, 9, 10, 11, 12, 13, 14, 15, 16, 17, 18, 19, 20, 21, 22, 23, 24, 25, 26, 27, 28, 29]\n",
      "Swapped root with element at index 7: [2, 7, 5, 4, 6, 3, 1, 8, 9, 10, 11, 12, 13, 14, 15, 16, 17, 18, 19, 20, 21, 22, 23, 24, 25, 26, 27, 28, 29]\n",
      "Heapify called on reduced heap up to index 7: [7, 6, 5, 4, 2, 3, 1, 8, 9, 10, 11, 12, 13, 14, 15, 16, 17, 18, 19, 20, 21, 22, 23, 24, 25, 26, 27, 28, 29]\n",
      "Swapped root with element at index 6: [1, 6, 5, 4, 2, 3, 7, 8, 9, 10, 11, 12, 13, 14, 15, 16, 17, 18, 19, 20, 21, 22, 23, 24, 25, 26, 27, 28, 29]\n",
      "Heapify called on reduced heap up to index 6: [6, 4, 5, 1, 2, 3, 7, 8, 9, 10, 11, 12, 13, 14, 15, 16, 17, 18, 19, 20, 21, 22, 23, 24, 25, 26, 27, 28, 29]\n",
      "Swapped root with element at index 5: [3, 4, 5, 1, 2, 6, 7, 8, 9, 10, 11, 12, 13, 14, 15, 16, 17, 18, 19, 20, 21, 22, 23, 24, 25, 26, 27, 28, 29]\n",
      "Heapify called on reduced heap up to index 5: [5, 4, 3, 1, 2, 6, 7, 8, 9, 10, 11, 12, 13, 14, 15, 16, 17, 18, 19, 20, 21, 22, 23, 24, 25, 26, 27, 28, 29]\n",
      "Swapped root with element at index 4: [2, 4, 3, 1, 5, 6, 7, 8, 9, 10, 11, 12, 13, 14, 15, 16, 17, 18, 19, 20, 21, 22, 23, 24, 25, 26, 27, 28, 29]\n",
      "Heapify called on reduced heap up to index 4: [4, 2, 3, 1, 5, 6, 7, 8, 9, 10, 11, 12, 13, 14, 15, 16, 17, 18, 19, 20, 21, 22, 23, 24, 25, 26, 27, 28, 29]\n",
      "Swapped root with element at index 3: [1, 2, 3, 4, 5, 6, 7, 8, 9, 10, 11, 12, 13, 14, 15, 16, 17, 18, 19, 20, 21, 22, 23, 24, 25, 26, 27, 28, 29]\n",
      "Heapify called on reduced heap up to index 3: [3, 2, 1, 4, 5, 6, 7, 8, 9, 10, 11, 12, 13, 14, 15, 16, 17, 18, 19, 20, 21, 22, 23, 24, 25, 26, 27, 28, 29]\n",
      "Swapped root with element at index 2: [1, 2, 3, 4, 5, 6, 7, 8, 9, 10, 11, 12, 13, 14, 15, 16, 17, 18, 19, 20, 21, 22, 23, 24, 25, 26, 27, 28, 29]\n",
      "Heapify called on reduced heap up to index 2: [2, 1, 3, 4, 5, 6, 7, 8, 9, 10, 11, 12, 13, 14, 15, 16, 17, 18, 19, 20, 21, 22, 23, 24, 25, 26, 27, 28, 29]\n",
      "Swapped root with element at index 1: [1, 2, 3, 4, 5, 6, 7, 8, 9, 10, 11, 12, 13, 14, 15, 16, 17, 18, 19, 20, 21, 22, 23, 24, 25, 26, 27, 28, 29]\n",
      "Heapify called on reduced heap up to index 1: [1, 2, 3, 4, 5, 6, 7, 8, 9, 10, 11, 12, 13, 14, 15, 16, 17, 18, 19, 20, 21, 22, 23, 24, 25, 26, 27, 28, 29]\n",
      "Sorted array: [1, 2, 3, 4, 5, 6, 7, 8, 9, 10, 11, 12, 13, 14, 15, 16, 17, 18, 19, 20, 21, 22, 23, 24, 25, 26, 27, 28, 29]\n"
     ]
    }
   ],
   "source": [
    "def heap(arr, n, i):\n",
    "    root = i\n",
    "    lc = 2 * i + 1\n",
    "    rc = 2 * i + 2\n",
    "    \n",
    "    if lc < n and arr[lc] > arr[root]:\n",
    "        root = lc\n",
    "        \n",
    "    if rc < n and arr[rc] > arr[root]:\n",
    "        root = rc\n",
    "        \n",
    "    if root != i:\n",
    "        arr[i], arr[root] = arr[root], arr[i]\n",
    "        heap(arr, n, root)\n",
    "\n",
    "\n",
    "def heap_sort(arr):\n",
    "    n = len(arr)\n",
    "    \n",
    "    # Build a maxheap\n",
    "    for i in range(n // 2 - 1, -1, -1):\n",
    "        heap(arr, n, i)\n",
    "        print(f\"Max-Heap built up to index {i}: {arr}\")\n",
    "    for i in range(n-1, 0, -1):\n",
    "        arr[i], arr[0] = arr[0], arr[i]  # Move current root to end\n",
    "        print(f\"Swapped root with element at index {i}: {arr}\")\n",
    "        heap(arr, i, 0)  # call max heapify on the reduced heap\n",
    "        print(f\"Heapify called on reduced heap up to index {i}: {arr}\")\n",
    "\n",
    "\n",
    "arr = [20, 10, 18, 19, 25, 24, 5, 3, 12, 17, 1, 13, 9, 26, 4, 28, 11, 27, 29, 22, 2, 16, 14, 15, 21, 23, 7, 6, 8]\n",
    "heap_sort(arr)\n",
    "print(f\"Sorted array: {arr}\")\n"
   ]
  },
  {
   "cell_type": "code",
   "execution_count": 19,
   "metadata": {},
   "outputs": [
    {
     "name": "stdout",
     "output_type": "stream",
     "text": [
      "[1, 2, 3, 4, 5, 6, 7, 8, 9, 10, 11, 12, 13, 14, 15, 16, 17, 18, 19, 20, 21, 22, 23, 24, 25, 26, 27, 28, 29]\n"
     ]
    }
   ],
   "source": [
    "def Hepify(arr,n,i):\n",
    "    root=i\n",
    "    lc=2*i+1\n",
    "    rc=2*i+2\n",
    "    if lc<n and arr[lc]>arr[root]:\n",
    "        root=lc\n",
    "    if rc<n and arr[rc]>arr[root]:\n",
    "        root=rc\n",
    "    if root!=i:\n",
    "        arr[i], arr[root] = arr[root], arr[i]\n",
    "        Hepify(arr,n,root)\n",
    "arr=[20, 10, 18, 19, 25, 24, 5, 3, 12, 22, 16, 21, 23, 26, 4, 28, 11, 27, 29, 17, 2, 1, 14, 15, 13, 9, 7, 6, 8]\n",
    "n=len(arr)\n",
    "for i in range(n//2-1,-1,-1):\n",
    "    Hepify(arr,n,i)\n",
    "for i in range(n-1,0,-1):\n",
    "    arr[i],arr[0]=arr[0],arr[i]\n",
    "    Hepify(arr,i,0)\n",
    "print(arr)"
   ]
  }
 ],
 "metadata": {
  "kernelspec": {
   "display_name": "Python 3",
   "language": "python",
   "name": "python3"
  },
  "language_info": {
   "codemirror_mode": {
    "name": "ipython",
    "version": 3
   },
   "file_extension": ".py",
   "mimetype": "text/x-python",
   "name": "python",
   "nbconvert_exporter": "python",
   "pygments_lexer": "ipython3",
   "version": "3.11.9"
  }
 },
 "nbformat": 4,
 "nbformat_minor": 2
}
